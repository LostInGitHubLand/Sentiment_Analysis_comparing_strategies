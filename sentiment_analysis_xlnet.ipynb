{
 "cells": [
  {
   "cell_type": "code",
   "execution_count": 1,
   "metadata": {},
   "outputs": [],
   "source": [
    "import pandas as pd\n",
    "import numpy as np\n",
    "import re, random\n",
    "from transformers import XLNetTokenizer, XLNetForSequenceClassification, TrainingArguments, Trainer, pipeline\n",
    "\n",
    "import torch\n",
    "\n",
    "from sklearn.model_selection import train_test_split\n",
    "from sklearn.preprocessing import LabelEncoder\n",
    "from sklearn.metrics import accuracy_score,confusion_matrix,classification_report\n",
    "\n",
    "import datasets \n",
    "import evaluate\n",
    "\n",
    "\n",
    "import seaborn as sns\n",
    "import matplotlib.pyplot as plt"
   ]
  },
  {
   "cell_type": "code",
   "execution_count": 2,
   "metadata": {},
   "outputs": [
    {
     "name": "stdout",
     "output_type": "stream",
     "text": [
      "There are 1 GPU(s) available.\n",
      "We will use the GPU: NVIDIA GeForce RTX 4060 Laptop GPU\n"
     ]
    }
   ],
   "source": [
    "# If there's a GPU available...\n",
    "if torch.cuda.is_available():    \n",
    "\n",
    "    # Tell PyTorch to use the GPU.    \n",
    "    device = torch.device(\"cuda\")\n",
    "\n",
    "    print('There are %d GPU(s) available.' % torch.cuda.device_count())\n",
    "\n",
    "    print('We will use the GPU:', torch.cuda.get_device_name(0))\n",
    "\n",
    "# If not...\n",
    "else:\n",
    "    print('No GPU available, using the CPU instead.')\n",
    "    device = torch.device(\"cpu\")\n",
    "\n",
    "#torch.cuda.empty_cache()"
   ]
  },
  {
   "cell_type": "code",
   "execution_count": 3,
   "metadata": {},
   "outputs": [
    {
     "name": "stdout",
     "output_type": "stream",
     "text": [
      "2.5.1+cu124\n"
     ]
    }
   ],
   "source": [
    "print(torch.__version__)"
   ]
  },
  {
   "cell_type": "markdown",
   "metadata": {},
   "source": [
    "# Load data"
   ]
  },
  {
   "cell_type": "code",
   "execution_count": 4,
   "metadata": {},
   "outputs": [],
   "source": [
    "data_train = pd.read_csv('./data/my_train.csv') \n",
    "data_test = pd.read_csv('./data/my_test.csv')\n",
    "data_val= pd.read_csv('./data/my_val.csv')"
   ]
  },
  {
   "cell_type": "code",
   "execution_count": 5,
   "metadata": {},
   "outputs": [
    {
     "data": {
      "text/html": [
       "<div>\n",
       "<style scoped>\n",
       "    .dataframe tbody tr th:only-of-type {\n",
       "        vertical-align: middle;\n",
       "    }\n",
       "\n",
       "    .dataframe tbody tr th {\n",
       "        vertical-align: top;\n",
       "    }\n",
       "\n",
       "    .dataframe thead th {\n",
       "        text-align: right;\n",
       "    }\n",
       "</style>\n",
       "<table border=\"1\" class=\"dataframe\">\n",
       "  <thead>\n",
       "    <tr style=\"text-align: right;\">\n",
       "      <th></th>\n",
       "      <th>Unnamed: 0</th>\n",
       "      <th>sentiment</th>\n",
       "      <th>text</th>\n",
       "    </tr>\n",
       "  </thead>\n",
       "  <tbody>\n",
       "    <tr>\n",
       "      <th>0</th>\n",
       "      <td>12588</td>\n",
       "      <td>1</td>\n",
       "      <td>two rooms packed and cleaned three to go</td>\n",
       "    </tr>\n",
       "    <tr>\n",
       "      <th>1</th>\n",
       "      <td>1079</td>\n",
       "      <td>0</td>\n",
       "      <td>_nation just launched twittix v1 10 not convinced</td>\n",
       "    </tr>\n",
       "  </tbody>\n",
       "</table>\n",
       "</div>"
      ],
      "text/plain": [
       "   Unnamed: 0  sentiment                                               text\n",
       "0       12588          1           two rooms packed and cleaned three to go\n",
       "1        1079          0  _nation just launched twittix v1 10 not convinced"
      ]
     },
     "execution_count": 5,
     "metadata": {},
     "output_type": "execute_result"
    }
   ],
   "source": [
    "data_train.head(2)"
   ]
  },
  {
   "cell_type": "code",
   "execution_count": 6,
   "metadata": {},
   "outputs": [],
   "source": [
    "# remove Unnamed:0 and use label instead of sentiment\n",
    "train_df = pd.DataFrame({\n",
    "    \"label\": data_train.sentiment.values,\n",
    "    \"text\": data_train.text.values\n",
    "})\n",
    "\n",
    "val_df = pd.DataFrame({\n",
    "    \"label\": data_val.sentiment.values,\n",
    "    \"text\": data_val.text.values\n",
    "})\n",
    "\n",
    "test_df = pd.DataFrame({\n",
    "    \"label\": data_test.sentiment.values,\n",
    "    \"text\": data_test.text.values\n",
    "})"
   ]
  },
  {
   "cell_type": "markdown",
   "metadata": {},
   "source": [
    "## Create Dataset objects"
   ]
  },
  {
   "cell_type": "code",
   "execution_count": 7,
   "metadata": {},
   "outputs": [],
   "source": [
    "# create DATASETs\n",
    "\n",
    "train_df = datasets.Dataset.from_dict(train_df)\n",
    "val_df = datasets.Dataset.from_dict(val_df)\n",
    "test_df = datasets.Dataset.from_dict(test_df)"
   ]
  },
  {
   "cell_type": "code",
   "execution_count": 8,
   "metadata": {},
   "outputs": [],
   "source": [
    "# Create DATASET DICT\n",
    "dataset_dict = datasets.DatasetDict({\"train\":train_df, \"valid\":val_df, \"test\":test_df})"
   ]
  },
  {
   "cell_type": "code",
   "execution_count": 9,
   "metadata": {},
   "outputs": [
    {
     "data": {
      "text/plain": [
       "DatasetDict({\n",
       "    train: Dataset({\n",
       "        features: ['label', 'text'],\n",
       "        num_rows: 18968\n",
       "    })\n",
       "    valid: Dataset({\n",
       "        features: ['label', 'text'],\n",
       "        num_rows: 2108\n",
       "    })\n",
       "    test: Dataset({\n",
       "        features: ['label', 'text'],\n",
       "        num_rows: 5270\n",
       "    })\n",
       "})"
      ]
     },
     "execution_count": 9,
     "metadata": {},
     "output_type": "execute_result"
    }
   ],
   "source": [
    "dataset_dict"
   ]
  },
  {
   "attachments": {
    "image.png": {
     "image/png": "[encoded data removed]"
    }
   },
   "cell_type": "markdown",
   "metadata": {},
   "source": [
    "# XlNET\n",
    "Using [xlnet base-size model](https://huggingface.co/xlnet/xlnet-base-cased) on Hugging Face\n",
    "\n",
    "## Why I choose XLNet?\n",
    "\n",
    "![image.png](attachment:image.png)\n",
    "\n",
    "\n",
    "| GPT | BERT | XLNET|\n",
    "|-|-|-|\n",
    "| Auto-regressive models| Masked Language Model (Bidirectional understanding context )| Permutation-based models|\n",
    "| Try to predict **the next word** (from lefto to right)| some words in a sentence are **randomly masked** and the model's task is to predict the masked words based on the surrounding context| can consider ALL words, not just the words to right and left of the target. It samples different permutation of the input data. **Learns to predict the probability of each word given the entire context.**\n",
    "\n",
    "- **Key innovation**: it overcomes some of the limitations of previous models in terms of how processes text to get a *deeper understanding of context*\n",
    "\n",
    "- **LLM developed by** Google AI and Carnagie Mellon University in 2019\n",
    "    - *BASE*: 110M parameters (12 layers of decoders)\n",
    "    - *LARGE*: 340M parameters (24 layers of decoders)\n"
   ]
  },
  {
   "cell_type": "code",
   "execution_count": 10,
   "metadata": {},
   "outputs": [],
   "source": [
    "tokenizer = XLNetTokenizer.from_pretrained(\"xlnet-base-cased\")"
   ]
  },
  {
   "cell_type": "code",
   "execution_count": 11,
   "metadata": {},
   "outputs": [],
   "source": [
    "#we want to return our tokenizer over our examples text\n",
    "def tokenize_function(examples):\n",
    "    return tokenizer(examples[\"text\"], padding = \"max_length\", max_length = 128, truncation=True)"
   ]
  },
  {
   "cell_type": "code",
   "execution_count": 12,
   "metadata": {},
   "outputs": [
    {
     "data": {
      "application/vnd.jupyter.widget-view+json": {
       "model_id": "e9d0fb1582dc403384ca84ba2ea48037",
       "version_major": 2,
       "version_minor": 0
      },
      "text/plain": [
       "Map:   0%|          | 0/18968 [00:00<?, ? examples/s]"
      ]
     },
     "metadata": {},
     "output_type": "display_data"
    },
    {
     "data": {
      "application/vnd.jupyter.widget-view+json": {
       "model_id": "63097fd54b8c464b8531892799770fa5",
       "version_major": 2,
       "version_minor": 0
      },
      "text/plain": [
       "Map:   0%|          | 0/2108 [00:00<?, ? examples/s]"
      ]
     },
     "metadata": {},
     "output_type": "display_data"
    },
    {
     "data": {
      "application/vnd.jupyter.widget-view+json": {
       "model_id": "2b9822a8bcc04e388036d96c70f3fc62",
       "version_major": 2,
       "version_minor": 0
      },
      "text/plain": [
       "Map:   0%|          | 0/5270 [00:00<?, ? examples/s]"
      ]
     },
     "metadata": {},
     "output_type": "display_data"
    }
   ],
   "source": [
    "# we can apply tokenize function over our dataset dictionary\n",
    "tokenized_datasets = dataset_dict.map(tokenize_function, batched=True)"
   ]
  },
  {
   "cell_type": "code",
   "execution_count": 13,
   "metadata": {},
   "outputs": [
    {
     "data": {
      "text/plain": [
       "DatasetDict({\n",
       "    train: Dataset({\n",
       "        features: ['label', 'text', 'input_ids', 'token_type_ids', 'attention_mask'],\n",
       "        num_rows: 18968\n",
       "    })\n",
       "    valid: Dataset({\n",
       "        features: ['label', 'text', 'input_ids', 'token_type_ids', 'attention_mask'],\n",
       "        num_rows: 2108\n",
       "    })\n",
       "    test: Dataset({\n",
       "        features: ['label', 'text', 'input_ids', 'token_type_ids', 'attention_mask'],\n",
       "        num_rows: 5270\n",
       "    })\n",
       "})"
      ]
     },
     "execution_count": 13,
     "metadata": {},
     "output_type": "execute_result"
    }
   ],
   "source": [
    "tokenized_datasets"
   ]
  },
  {
   "cell_type": "code",
   "execution_count": 14,
   "metadata": {},
   "outputs": [],
   "source": [
    "small_train_dataset = tokenized_datasets[\"train\"].shuffle(seed=42).select(range(9000))\n",
    "small_eval_dataset = tokenized_datasets[\"valid\"].shuffle(seed=42).select(range(1000))"
   ]
  },
  {
   "cell_type": "markdown",
   "metadata": {},
   "source": [
    "# Fine Tune our model"
   ]
  },
  {
   "cell_type": "code",
   "execution_count": 15,
   "metadata": {},
   "outputs": [
    {
     "name": "stderr",
     "output_type": "stream",
     "text": [
      "Some weights of XLNetForSequenceClassification were not initialized from the model checkpoint at xlnet-base-cased and are newly initialized: ['logits_proj.bias', 'logits_proj.weight', 'sequence_summary.summary.bias', 'sequence_summary.summary.weight']\n",
      "You should probably TRAIN this model on a down-stream task to be able to use it for predictions and inference.\n"
     ]
    }
   ],
   "source": [
    "NUM_LABELS = 3\n",
    "model = XLNetForSequenceClassification.from_pretrained('xlnet-base-cased', \n",
    "                                                       num_labels = NUM_LABELS, \n",
    "                                                       id2label = {0: 'negative', 1: 'neutral', 2: 'positive'})"
   ]
  },
  {
   "cell_type": "code",
   "execution_count": 16,
   "metadata": {},
   "outputs": [],
   "source": [
    "metric = evaluate.load(\"accuracy\")"
   ]
  },
  {
   "cell_type": "code",
   "execution_count": 17,
   "metadata": {},
   "outputs": [],
   "source": [
    "def compute_metrics(eval_pred):\n",
    "    logits, labels = eval_pred\n",
    "    predictions = np.argmax(logits, axis=-1)\n",
    "    return metric.compute(predictions = predictions, references = labels)"
   ]
  },
  {
   "cell_type": "code",
   "execution_count": 18,
   "metadata": {},
   "outputs": [],
   "source": [
    "training_args = TrainingArguments(output_dir = \"test_trainer\", eval_strategy = \"epoch\", num_train_epochs = 3)"
   ]
  },
  {
   "cell_type": "code",
   "execution_count": 19,
   "metadata": {},
   "outputs": [],
   "source": [
    "trainer = Trainer(\n",
    "    model = model, \n",
    "    args = training_args,\n",
    "    train_dataset = tokenized_datasets[\"train\"],\n",
    "    eval_dataset = tokenized_datasets[\"valid\"],\n",
    "    compute_metrics = compute_metrics)"
   ]
  },
  {
   "cell_type": "code",
   "execution_count": 20,
   "metadata": {},
   "outputs": [
    {
     "data": {
      "application/vnd.jupyter.widget-view+json": {
       "model_id": "3d13da7d21c041e0bf096f3646660095",
       "version_major": 2,
       "version_minor": 0
      },
      "text/plain": [
       "  0%|          | 0/7113 [00:00<?, ?it/s]"
      ]
     },
     "metadata": {},
     "output_type": "display_data"
    },
    {
     "name": "stdout",
     "output_type": "stream",
     "text": [
      "{'loss': 0.8581, 'grad_norm': 11.75599479675293, 'learning_rate': 4.6485308589905805e-05, 'epoch': 0.21}\n",
      "{'loss': 0.71, 'grad_norm': 6.990516662597656, 'learning_rate': 4.2970617179811615e-05, 'epoch': 0.42}\n",
      "{'loss': 0.7059, 'grad_norm': 3.8654518127441406, 'learning_rate': 3.9455925769717424e-05, 'epoch': 0.63}\n",
      "{'loss': 0.733, 'grad_norm': 6.610783576965332, 'learning_rate': 3.594123435962323e-05, 'epoch': 0.84}\n"
     ]
    },
    {
     "data": {
      "application/vnd.jupyter.widget-view+json": {
       "model_id": "f6000ebf89ad4c219e63a3e2e7e1cdb0",
       "version_major": 2,
       "version_minor": 0
      },
      "text/plain": [
       "  0%|          | 0/264 [00:00<?, ?it/s]"
      ]
     },
     "metadata": {},
     "output_type": "display_data"
    },
    {
     "name": "stdout",
     "output_type": "stream",
     "text": [
      "{'eval_loss': 0.6728677749633789, 'eval_accuracy': 0.7523719165085389, 'eval_runtime': 27.5361, 'eval_samples_per_second': 76.554, 'eval_steps_per_second': 9.587, 'epoch': 1.0}\n",
      "{'loss': 0.7072, 'grad_norm': 6.29326868057251, 'learning_rate': 3.242654294952903e-05, 'epoch': 1.05}\n",
      "{'loss': 0.6265, 'grad_norm': 6.609657287597656, 'learning_rate': 2.8911851539434836e-05, 'epoch': 1.27}\n",
      "{'loss': 0.6221, 'grad_norm': 10.940587043762207, 'learning_rate': 2.5397160129340646e-05, 'epoch': 1.48}\n",
      "{'loss': 0.596, 'grad_norm': 16.21500015258789, 'learning_rate': 2.1882468719246452e-05, 'epoch': 1.69}\n",
      "{'loss': 0.5795, 'grad_norm': 7.635183811187744, 'learning_rate': 1.8367777309152258e-05, 'epoch': 1.9}\n"
     ]
    },
    {
     "data": {
      "application/vnd.jupyter.widget-view+json": {
       "model_id": "110ffceb1a3b4072bcb7cf4f1d8a39c8",
       "version_major": 2,
       "version_minor": 0
      },
      "text/plain": [
       "  0%|          | 0/264 [00:00<?, ?it/s]"
      ]
     },
     "metadata": {},
     "output_type": "display_data"
    },
    {
     "name": "stdout",
     "output_type": "stream",
     "text": [
      "{'eval_loss': 0.6260012984275818, 'eval_accuracy': 0.7722960151802657, 'eval_runtime': 27.6876, 'eval_samples_per_second': 76.135, 'eval_steps_per_second': 9.535, 'epoch': 2.0}\n",
      "{'loss': 0.5285, 'grad_norm': 8.496991157531738, 'learning_rate': 1.4853085899058064e-05, 'epoch': 2.11}\n",
      "{'loss': 0.4985, 'grad_norm': 14.164031982421875, 'learning_rate': 1.133839448896387e-05, 'epoch': 2.32}\n",
      "{'loss': 0.4749, 'grad_norm': 8.00275993347168, 'learning_rate': 7.823703078869675e-06, 'epoch': 2.53}\n",
      "{'loss': 0.454, 'grad_norm': 15.183998107910156, 'learning_rate': 4.309011668775482e-06, 'epoch': 2.74}\n",
      "{'loss': 0.4601, 'grad_norm': 21.705570220947266, 'learning_rate': 7.943202586812878e-07, 'epoch': 2.95}\n"
     ]
    },
    {
     "data": {
      "application/vnd.jupyter.widget-view+json": {
       "model_id": "009362b96f4f400e9cfcacaf8d5f34b9",
       "version_major": 2,
       "version_minor": 0
      },
      "text/plain": [
       "  0%|          | 0/264 [00:00<?, ?it/s]"
      ]
     },
     "metadata": {},
     "output_type": "display_data"
    },
    {
     "name": "stdout",
     "output_type": "stream",
     "text": [
      "{'eval_loss': 0.6342470049858093, 'eval_accuracy': 0.7884250474383302, 'eval_runtime': 30.2139, 'eval_samples_per_second': 69.769, 'eval_steps_per_second': 8.738, 'epoch': 3.0}\n",
      "{'train_runtime': 2139.3449, 'train_samples_per_second': 26.599, 'train_steps_per_second': 3.325, 'train_loss': 0.6092899150357675, 'epoch': 3.0}\n"
     ]
    },
    {
     "data": {
      "text/plain": [
       "TrainOutput(global_step=7113, training_loss=0.6092899150357675, metrics={'train_runtime': 2139.3449, 'train_samples_per_second': 26.599, 'train_steps_per_second': 3.325, 'total_flos': 4052740463953920.0, 'train_loss': 0.6092899150357675, 'epoch': 3.0})"
      ]
     },
     "execution_count": 20,
     "metadata": {},
     "output_type": "execute_result"
    }
   ],
   "source": [
    "trainer.train()"
   ]
  },
  {
   "cell_type": "markdown",
   "metadata": {},
   "source": [
    "# Evaluate the model"
   ]
  },
  {
   "cell_type": "code",
   "execution_count": 21,
   "metadata": {},
   "outputs": [
    {
     "data": {
      "application/vnd.jupyter.widget-view+json": {
       "model_id": "dfe2390686c647d78b59267b2c96c60c",
       "version_major": 2,
       "version_minor": 0
      },
      "text/plain": [
       "  0%|          | 0/264 [00:00<?, ?it/s]"
      ]
     },
     "metadata": {},
     "output_type": "display_data"
    },
    {
     "data": {
      "text/plain": [
       "{'eval_loss': 0.6342470049858093,\n",
       " 'eval_accuracy': 0.7884250474383302,\n",
       " 'eval_runtime': 30.2396,\n",
       " 'eval_samples_per_second': 69.71,\n",
       " 'eval_steps_per_second': 8.73,\n",
       " 'epoch': 3.0}"
      ]
     },
     "execution_count": 21,
     "metadata": {},
     "output_type": "execute_result"
    }
   ],
   "source": [
    "trainer.evaluate()"
   ]
  },
  {
   "cell_type": "markdown",
   "metadata": {},
   "source": [
    "# Save our model"
   ]
  },
  {
   "cell_type": "code",
   "execution_count": 22,
   "metadata": {},
   "outputs": [],
   "source": [
    "model.save_pretrained(\"fine_tuned_model_xlnet_sentiment3\")"
   ]
  },
  {
   "cell_type": "code",
   "execution_count": 23,
   "metadata": {},
   "outputs": [],
   "source": [
    "fine_tuned_model = XLNetForSequenceClassification.from_pretrained(\"fine_tuned_model_xlnet_sentiment3\")"
   ]
  },
  {
   "cell_type": "code",
   "execution_count": 24,
   "metadata": {},
   "outputs": [
    {
     "data": {
      "application/vnd.jupyter.widget-view+json": {
       "model_id": "88a4f0dc05cf4a478788111e78dfaa35",
       "version_major": 2,
       "version_minor": 0
      },
      "text/plain": [
       "  0%|          | 0/659 [00:00<?, ?it/s]"
      ]
     },
     "metadata": {},
     "output_type": "display_data"
    }
   ],
   "source": [
    "trainer = Trainer(\n",
    "    model = fine_tuned_model)\n",
    "predictions= trainer.predict(tokenized_datasets['test'])"
   ]
  },
  {
   "cell_type": "code",
   "execution_count": 25,
   "metadata": {},
   "outputs": [
    {
     "data": {
      "text/plain": [
       "array([0, 0, 2, ..., 1, 1, 2])"
      ]
     },
     "execution_count": 25,
     "metadata": {},
     "output_type": "execute_result"
    }
   ],
   "source": [
    "probabilities = predictions.predictions\n",
    "# Get the predicted class ID (index of the highest probability)\n",
    "predicted_class_ids = np.argmax(probabilities, axis=-1)\n",
    "predicted_class_ids"
   ]
  },
  {
   "cell_type": "markdown",
   "metadata": {},
   "source": [
    "# See the metrics"
   ]
  },
  {
   "cell_type": "code",
   "execution_count": 26,
   "metadata": {},
   "outputs": [
    {
     "data": {
      "text/plain": [
       "0.798"
      ]
     },
     "execution_count": 26,
     "metadata": {},
     "output_type": "execute_result"
    }
   ],
   "source": [
    "accuracy = accuracy_score(data_test['sentiment'], predicted_class_ids)\n",
    "round(accuracy,3)"
   ]
  },
  {
   "cell_type": "code",
   "execution_count": 28,
   "metadata": {},
   "outputs": [
    {
     "name": "stdout",
     "output_type": "stream",
     "text": [
      "Classification_report\n",
      "              precision    recall  f1-score   support\n",
      "\n",
      "           0       0.82      0.84      0.83      1792\n",
      "           1       0.72      0.72      0.72      1731\n",
      "           2       0.85      0.83      0.84      1747\n",
      "\n",
      "    accuracy                           0.80      5270\n",
      "   macro avg       0.80      0.80      0.80      5270\n",
      "weighted avg       0.80      0.80      0.80      5270\n",
      "\n",
      "Confusion Matrix\n"
     ]
    },
    {
     "data": {
      "image/png": "[encoded data removed]",
      "text/plain": [
       "<Figure size 800x600 with 2 Axes>"
      ]
     },
     "metadata": {},
     "output_type": "display_data"
    }
   ],
   "source": [
    "y_test, y_pred= data_test['sentiment'],  predicted_class_ids\n",
    "\n",
    "accuracy_score(y_test,y_pred)\n",
    "print(f'Classification_report')\n",
    "print(classification_report(y_test,y_pred))\n",
    "print(f'Confusion Matrix')\n",
    "cm = confusion_matrix(y_test,y_pred)\n",
    "plt.figure(figsize=(8, 6))\n",
    "sns.heatmap(cm, annot=True, fmt='d', cmap='Blues', xticklabels=['Negative', 'Neutral', 'Positive'], yticklabels=['Negative', 'Neutral', 'Positive'])\n",
    "plt.xlabel('Predicted Labels')\n",
    "plt.ylabel('True Labels')\n",
    "plt.title('Confusion Matrix Heatmap')\n",
    "plt.show()"
   ]
  },
  {
   "cell_type": "markdown",
   "metadata": {},
   "source": [
    "# Bibliography\n",
    "\n",
    "[XLNet: Generalized Autoregressive Pretraining for Language Understanding,Zhilin Yang, Zihang Dai, Yiming Yang, Jaime Carbonell, Ruslan Salakhutdinov, Quoc V. Le,2019](https://arxiv.org/pdf/1906.08237)\n"
   ]
  }
 ],
 "metadata": {
  "kernelspec": {
   "display_name": "sa_env",
   "language": "python",
   "name": "python3"
  },
  "language_info": {
   "codemirror_mode": {
    "name": "ipython",
    "version": 3
   },
   "file_extension": ".py",
   "mimetype": "text/x-python",
   "name": "python",
   "nbconvert_exporter": "python",
   "pygments_lexer": "ipython3",
   "version": "3.12.6"
  }
 },
 "nbformat": 4,
 "nbformat_minor": 2
}
